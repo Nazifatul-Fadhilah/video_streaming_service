{
 "cells": [
  {
   "cell_type": "code",
   "execution_count": 1,
   "metadata": {},
   "outputs": [],
   "source": [
    "from user import User"
   ]
  },
  {
   "cell_type": "code",
   "execution_count": 2,
   "metadata": {},
   "outputs": [],
   "source": [
    "user1 = User(\"Shandy\")"
   ]
  },
  {
   "cell_type": "code",
   "execution_count": 3,
   "metadata": {},
   "outputs": [
    {
     "data": {
      "text/plain": [
       "12"
      ]
     },
     "execution_count": 3,
     "metadata": {},
     "output_type": "execute_result"
    }
   ],
   "source": [
    "user1.duration_plan"
   ]
  },
  {
   "cell_type": "code",
   "execution_count": 4,
   "metadata": {},
   "outputs": [
    {
     "data": {
      "text/plain": [
       "'shandy-2134'"
      ]
     },
     "execution_count": 4,
     "metadata": {},
     "output_type": "execute_result"
    }
   ],
   "source": [
    "user1.kode_referal"
   ]
  },
  {
   "cell_type": "code",
   "execution_count": 5,
   "metadata": {},
   "outputs": [
    {
     "name": "stdout",
     "output_type": "stream",
     "text": [
      "List Benefit and Plan from Pacflix\n",
      "\n",
      "['Basic Plan', 'Standard Plan', 'Premium Plan', 'Services']\n",
      "[[True, True, True, 'Bisa Stream'], [True, True, True, 'Bisa Download'], [True, True, True, 'Kualitas SD'], [False, True, True, 'Kualitas HD'], [False, False, True, 'Kualitas UHD'], [1, 2, 4, 'Number of Devices'], ['3rd party Movie only', 'Basic Plan Content + Sports', 'Basic Plan + Standard Plan + PacFlix Original Series', 'Jenis Konten'], [120000, 160000, 200000, 'Harga']]\n"
     ]
    }
   ],
   "source": [
    "user1.check_all_plan()"
   ]
  },
  {
   "cell_type": "code",
   "execution_count": 6,
   "metadata": {},
   "outputs": [
    {
     "name": "stdout",
     "output_type": "stream",
     "text": [
      "Shandy sedang berlangganan Basic Plan\n",
      "Benefit yang didapatkan\n",
      "['Basic Plan', 'Services'] [[True, 'Bisa Stream'], [True, 'Bisa Download'], [True, 'Kualitas SD'], [False, 'Kualitas HD'], [False, 'Kualitas UHD'], [1, 'Number of Devices'], ['3rd party Movie only', 'Jenis Konten'], [120000, 'Harga']]\n"
     ]
    }
   ],
   "source": [
    "user1.check_user_plan()"
   ]
  },
  {
   "cell_type": "code",
   "execution_count": 7,
   "metadata": {},
   "outputs": [
    {
     "name": "stdout",
     "output_type": "stream",
     "text": [
      "Harga upgrade ke Standard Plan adalah Rp.160,000\n"
     ]
    }
   ],
   "source": [
    "user1.upgrade_plan(\"Standard Plan\")"
   ]
  },
  {
   "cell_type": "code",
   "execution_count": 8,
   "metadata": {},
   "outputs": [
    {
     "data": {
      "text/plain": [
       "'Standard Plan'"
      ]
     },
     "execution_count": 8,
     "metadata": {},
     "output_type": "execute_result"
    }
   ],
   "source": [
    "user1.current_plan"
   ]
  },
  {
   "cell_type": "code",
   "execution_count": 9,
   "metadata": {},
   "outputs": [
    {
     "data": {
      "text/plain": [
       "{1: ['Shandy', 'Standard Plan', 12, 'shandy-2134'],\n",
       " 2: ['Cahya', 'Standard Plan', 24, 'cahya-abcd'],\n",
       " 3: ['Ana', 'Premium Plan', 5, 'ana-2f9g'],\n",
       " 4: ['Bagus', 'Basic Plan', 11, 'bagus-9f92']}"
      ]
     },
     "execution_count": 9,
     "metadata": {},
     "output_type": "execute_result"
    }
   ],
   "source": [
    "user1.data_user"
   ]
  },
  {
   "cell_type": "code",
   "execution_count": 11,
   "metadata": {},
   "outputs": [
    {
     "name": "stdout",
     "output_type": "stream",
     "text": [
      "Anda sudah memiliki plan\n"
     ]
    }
   ],
   "source": [
    "user1.subs_plan(\"Basic plan\",None)"
   ]
  },
  {
   "cell_type": "code",
   "execution_count": 14,
   "metadata": {},
   "outputs": [
    {
     "name": "stdout",
     "output_type": "stream",
     "text": [
      "Anda sudah memiliki plan\n"
     ]
    }
   ],
   "source": [
    "user2 = User(\"Rosy\")\n",
    "user2.subs_plan(\"Basic Plan\",\"shandy-2134\")"
   ]
  },
  {
   "cell_type": "code",
   "execution_count": 15,
   "metadata": {},
   "outputs": [
    {
     "name": "stdout",
     "output_type": "stream",
     "text": [
      "Harga yang harus dibayarkan untuk subs Basic Plan adalah Rp. 115,200.0\n"
     ]
    }
   ],
   "source": [
    "user3 = User(\"Fadhilah\")\n",
    "user3.subs_plan(\"Basic Plan\",\"ana-2f9g\")"
   ]
  }
 ],
 "metadata": {
  "kernelspec": {
   "display_name": "Python 3",
   "language": "python",
   "name": "python3"
  },
  "language_info": {
   "codemirror_mode": {
    "name": "ipython",
    "version": 3
   },
   "file_extension": ".py",
   "mimetype": "text/x-python",
   "name": "python",
   "nbconvert_exporter": "python",
   "pygments_lexer": "ipython3",
   "version": "3.9.6"
  }
 },
 "nbformat": 4,
 "nbformat_minor": 2
}
